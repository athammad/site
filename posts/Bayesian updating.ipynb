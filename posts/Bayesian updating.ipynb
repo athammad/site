{
  "cells": [
    {
      "cell_type": "raw",
      "metadata": {},
      "source": [
        "---\n",
        "title: \"Bayesian updating\"\n",
        "image: https://vitalflux.com/wp-content/uploads/2020/09/Screenshot-2020-09-13-at-9.29.35-AM.png\n",
        "code-fold: true\n",
        "---"
      ],
      "id": "3c519391"
    },
    {
      "cell_type": "markdown",
      "metadata": {},
      "source": [
        "# An intuitive explanation of Bayesian updating (and some code)\n",
        "\n",
        "To elucidate the workings of Bayesian updating, I often find it helpful to draw parallels from everyday experiences. Previously, I've used examples like my dog and my first date with my girlfriend. This time, let's delve into the concept using a job interview scenario.\n",
        "\n",
        "## The job interview\n",
        "\n",
        "Imagine you've landed a job interview -- you're simultaneously excited and apprehensive. As you stand at the threshold, you're completely uncertain about what awaits you inside. You don't know who the interviewers are, what to expect, or how the interview will unfold. The odds of everything going either terribly wrong or wonderfully right seem equally plausible.\n",
        "\n",
        "In the realm of probability, we can liken your state of mind to a uniform distribution, where all outcomes are equally probable. This state of not knowing what will happen or how the interview will conclude is what Bayesian terminology dubs the \"prior belief\" -- it's the starting point for your assessment.\n"
      ],
      "id": "2fa0bbf8"
    },
    {
      "cell_type": "code",
      "metadata": {},
      "source": [
        "import numpy as np\n",
        "import matplotlib.pyplot as plt\n",
        "import seaborn as sns\n",
        "import scipy.stats as stats\n",
        "\n",
        "#make this example reproducible.\n",
        "np.random.seed(1)\n",
        "dataUni = np.random.uniform(size=1000)\n",
        "sns.kdeplot(dataUni)\n",
        "# Adjust x-axis limits to show the tails\n",
        "plt.xlim(-0.1, 1.1)\n",
        "plt.title('Prior Belief with no idea')\n",
        "# Show the plot\n",
        "plt.show()"
      ],
      "id": "f7b0782d",
      "execution_count": null,
      "outputs": []
    },
    {
      "cell_type": "markdown",
      "metadata": {},
      "source": [
        "## Beliefs\n",
        "\n",
        "Interestingly, we still call it a \"prior belief\" even if you harbor some inkling about how the interview might unfold. For instance, let's say you had an unpleasant preliminary conversation with the company, and as you enter the room, you're not filled with optimism, estimating a 40% chance of success. In Bayesian terms, this, too, can be translated into probabilities.\n"
      ],
      "id": "47a1260b"
    },
    {
      "cell_type": "code",
      "metadata": {},
      "source": [
        "#make this example reproducible.\n",
        "np.random.seed(1)\n",
        "# Define the parameters for the prior belief and evidence\n",
        "prior_prob = 0.4\n",
        "# Create a range of values for the probability (x-axis)\n",
        "x = np.linspace(0, 1, 1000)\n",
        "# Calculate the prior probability distribution (prior belief)\n",
        "prior_distribution = stats.beta.pdf(x, 2, 3)  # Beta distribution parameters (2, 3)\n",
        "sns.lineplot(x=x, y=prior_distribution,color=\"blue\")\n",
        "plt.title('Prior Belief with some idea')\n",
        "# Show the plot\n",
        "plt.show()"
      ],
      "id": "c923ad16",
      "execution_count": null,
      "outputs": []
    },
    {
      "cell_type": "markdown",
      "metadata": {},
      "source": [
        "Keep in mind, though, that this assessment is occurring just as you're about to step through the door.\n",
        "\n",
        "## Smile\n",
        "\n",
        "Now, envision yourself crossing that threshold, and the interviewers pose their initial question. Your response is swift, and you notice a confident smile on the interviewer's face. This moment represents a pivotal piece of new information drawn from your real-time experience, and naturally, you'll use it to revise your initial belief about the interview's outcome. We call this new information and \"evidence\".\n",
        "\n",
        "What's happening inside your mind, that surge of heightened confidence, can once again be translated into numerical probabilities to update your initial belief. This is precisely where the Bayes comes into play.\n",
        "\n",
        "Let's show how the update takes place. Let's assign to that smile, the evidence, a probability of 80% to pass the interview.\n"
      ],
      "id": "ed4d5389"
    },
    {
      "cell_type": "code",
      "metadata": {},
      "source": [
        "evidence_prob = 0.8\n",
        "# Create a range of values for the probability (x-axis)\n",
        "x = np.linspace(0, 1, 1000)\n",
        "\n",
        "evidence_distribution = stats.beta.pdf(x, 4, 2)  # Beta distribution parameters (4, 2)\n",
        "sns.lineplot(x=x, y=evidence_distribution, color='green')\n",
        "plt.title('Evidence')\n",
        "# Show the plot\n",
        "plt.show()"
      ],
      "id": "13f2e9b9",
      "execution_count": null,
      "outputs": []
    },
    {
      "cell_type": "markdown",
      "metadata": {},
      "source": [
        "## Update\n",
        "\n",
        "Now, let's plug in all the information we have in the Bayesian therm we all know. We started with a not so confident prior belief (40% chance of success), then we got a new smiling evidence (80% chance of success). From here we can combine these two information and calculate our updated beliefs or as we call them \"posterior beliefs\".\n"
      ],
      "id": "3967fe0c"
    },
    {
      "cell_type": "code",
      "metadata": {},
      "source": [
        "# Define the parameters for the prior belief and evidence\n",
        "prior_prob = 0.4\n",
        "evidence_prob = 0.8\n",
        "\n",
        "# Create a range of values for the probability (x-axis)\n",
        "x = np.linspace(0, 1, 1000)\n",
        "\n",
        "# Calculate the prior probability distribution (prior belief)\n",
        "prior_distribution = stats.beta.pdf(x, 2, 3)  # Beta distribution parameters (2, 3)\n",
        "\n",
        "# Calculate the evidence (as a Beta distribution with parameters based on evidence probability)\n",
        "evidence_distribution = stats.beta.pdf(x, 4, 2)  # Beta distribution parameters (4, 2)\n",
        "\n",
        "# Calculate the posterior probability distribution (updated belief)\n",
        "posterior_distribution = prior_distribution * evidence_distribution\n",
        "posterior_distribution = posterior_distribution\n",
        "\n",
        "# Create a Seaborn plot\n",
        "plt.figure(figsize=(10, 6))\n",
        "sns.lineplot(x=x, y=prior_distribution, label='Prior Belief (40%)', color='blue')\n",
        "sns.lineplot(x=x, y=evidence_distribution, label='Evidence (80%)', color='green')\n",
        "sns.lineplot(x=x, y=posterior_distribution, label='Posterior Belief', color='red')\n",
        "\n",
        "# Customize the plot\n",
        "plt.title('Bayes update Representation')\n",
        "plt.xlabel('Probability')\n",
        "plt.ylabel('Density')\n",
        "plt.legend()\n",
        "\n",
        "plt.show()"
      ],
      "id": "6705a827",
      "execution_count": null,
      "outputs": []
    },
    {
      "cell_type": "markdown",
      "metadata": {},
      "source": [
        "As you can see, now you have around 60% of passing the interview. These process can keep on going with every new information you collect during the interview as in this gif.\n",
        "\n",
        "![](/gallery/bayesian_update.gif){fig-align=\"center\"}\n",
        "\n",
        "In essence, this is the core of Bayesian updating. It allows you to adapt your beliefs based on new information as you progress through an uncertain situation, much like navigating the twists and turns of a job interview."
      ],
      "id": "b1238369"
    }
  ],
  "metadata": {
    "kernelspec": {
      "name": "python3",
      "language": "python",
      "display_name": "Python 3 (ipykernel)"
    }
  },
  "nbformat": 4,
  "nbformat_minor": 5
}